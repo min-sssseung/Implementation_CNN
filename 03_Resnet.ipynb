{
 "cells": [
  {
   "cell_type": "code",
   "execution_count": 1,
   "metadata": {},
   "outputs": [],
   "source": [
    "import torch\n",
    "import torch.nn as nn\n",
    "import torch.optim as optim"
   ]
  },
  {
   "cell_type": "code",
   "execution_count": 2,
   "metadata": {},
   "outputs": [],
   "source": [
    "# input data : 224x224 size\n",
    "img = torch.rand((1,3,224,224))"
   ]
  },
  {
   "cell_type": "code",
   "execution_count": 3,
   "metadata": {},
   "outputs": [],
   "source": [
    "# Block은 논문에서 [2,2,2,2], [3,4,6,3]\n",
    "# 2개씩 묶어서 2 * (3+4+6+3) 으로 생각 + pooling 2회 => ResNet34\n",
    "# 2* (3,4,6,3) -> shortcut 이랑 그냥 지나간 것을 묶음으로 생각\n",
    "class Block(nn.Module):\n",
    "    def __init__(self,in_channels,out_channels,stride=1):\n",
    "        super().__init__()\n",
    "        # stride =1, padding=1 -> size변화 없음.\n",
    "        # stride가 1이 아니라면 -> size 변화 o ex) 128 -> 64 , 64 ->32 등\n",
    "        self.conv1 = nn.Conv2d(in_channels,out_channels,kernel_size=3,stride=stride,padding=1,bias=False)\n",
    "        self.bn1 = nn.BatchNorm2d(out_channels)\n",
    "        \n",
    "        self.conv2 = nn.Conv2d(out_channels,out_channels,kernel_size=3,stride=1,padding=1,bias=False)\n",
    "        self.bn2 =  nn.BatchNorm2d(out_channels)\n",
    "        \n",
    "        self.relu = nn.ReLU()\n",
    "        self.shortcut = nn.Sequential()\n",
    "        \n",
    "        if stride != 1:\n",
    "            self.shortcut = nn.Sequential(\n",
    "                nn.Conv2d(in_channels,out_channels,kernel_size=1,stride=stride,bias=False),\n",
    "                nn.BatchNorm2d(out_channels)\n",
    "            )\n",
    "        \n",
    "    def forward(self,x):\n",
    "        out = self.conv1(x)\n",
    "        out = self.bn1(out)\n",
    "        out = self.relu(out)\n",
    "        \n",
    "        out = self.conv2(out)\n",
    "        out = self.bn2(out)\n",
    "        out += self.shortcut(x)\n",
    "        out = self.relu(out)\n",
    "        return out"
   ]
  },
  {
   "cell_type": "code",
   "execution_count": 4,
   "metadata": {},
   "outputs": [],
   "source": [
    "# resnet 50이상일때 bottle neck구조\n",
    "# 위는 2개씩 block, 50 이상부터는 3개씩 block\n",
    "# 1x1 , 3x3, 1x1 로 다시 변환하기 -> 필요한 parameter수를 줄이기\n",
    "# computation cost 줄일 수 있음 \n",
    "\n",
    "class ResNet(nn.Module):\n",
    "    def __init__(self,block,n_blocks,num_classes):\n",
    "        super(ResNet,self).__init__()\n",
    "        self.in_channels = 64\n",
    "        \n",
    "        # 처음 channel은 3, 이후 7x7x64로 바꾸어주고 block으로 계산됨 \n",
    "        self.conv1 = nn.Conv2d(3,64,kernel_size=7,stride=2,padding=3,bias=False)\n",
    "        self.bn1 = nn.BatchNorm2d(64)\n",
    "        self.relu = nn.ReLU()\n",
    "        # 18일때 n_blocks = [2,2,2,2] 34일때 [3,4,6,3]\n",
    "        # 처음은 이미 위에서 conv1으로 진행하였으니 stride=1\n",
    "        self.layer1 = self._make_layer(block,64,n_blocks[0],stride=1)\n",
    "        self.layer2 = self._make_layer(block,128,n_blocks[1],stride=2)\n",
    "        self.layer3 = self._make_layer(block,256,n_blocks[2],stride=2)\n",
    "        self.layer4 = self._make_layer(block,512,n_blocks[3],stride=2)\n",
    "        \n",
    "        self.avgpool = nn.AdaptiveAvgPool2d((1,1))\n",
    "        self.linear = nn.Linear(512,num_classes)\n",
    "        \n",
    "        \n",
    "    def _make_layer(self,block,out_channels,n_blocks,stride):\n",
    "        # 처음 stride말고는 size 변화할 일이 없어서 전부 1\n",
    "        strides = [stride] +[1]*(n_blocks -1)\n",
    "        layers = []\n",
    "        for stride in strides:\n",
    "            layers.append(block(self.in_channels,out_channels,stride))\n",
    "            self.in_channels = out_channels\n",
    "        return nn.Sequential(*layers)\n",
    "    \n",
    "    def forward(self,x):\n",
    "        x = self.conv1(x)\n",
    "        x = self.bn1(x)\n",
    "        x = self.relu(x)\n",
    "        x = self.layer1(x)\n",
    "        x = self.layer2(x)\n",
    "        x = self.layer3(x)\n",
    "        x = self.layer4(x)\n",
    "        x = self.avgpool(x)\n",
    "        x = x.view(x.size(0),-1)\n",
    "        x = self.linear(x)\n",
    "        return x"
   ]
  },
  {
   "cell_type": "code",
   "execution_count": 5,
   "metadata": {},
   "outputs": [
    {
     "name": "stdout",
     "output_type": "stream",
     "text": [
      "torch.Size([1, 1000])\n"
     ]
    }
   ],
   "source": [
    "test = torch.randn(1,3,224,224) \n",
    "y = ResNet(Block,n_blocks=[3,4,6,3],num_classes=1000)\n",
    "print(y(test).shape)"
   ]
  }
 ],
 "metadata": {
  "kernelspec": {
   "display_name": "Python 3",
   "language": "python",
   "name": "python3"
  },
  "language_info": {
   "codemirror_mode": {
    "name": "ipython",
    "version": 3
   },
   "file_extension": ".py",
   "mimetype": "text/x-python",
   "name": "python",
   "nbconvert_exporter": "python",
   "pygments_lexer": "ipython3",
   "version": "3.12.1"
  }
 },
 "nbformat": 4,
 "nbformat_minor": 2
}
