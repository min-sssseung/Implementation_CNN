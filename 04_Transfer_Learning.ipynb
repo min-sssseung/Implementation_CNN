{
  "nbformat": 4,
  "nbformat_minor": 0,
  "metadata": {
    "colab": {
      "private_outputs": true,
      "provenance": [],
      "gpuType": "T4"
    },
    "kernelspec": {
      "name": "python3",
      "display_name": "Python 3"
    },
    "language_info": {
      "name": "python"
    },
    "accelerator": "GPU"
  },
  "cells": [
    {
      "cell_type": "code",
      "execution_count": null,
      "metadata": {
        "id": "97HSmdLjG0by"
      },
      "outputs": [],
      "source": [
        "import tensorflow as tf\n",
        "print(\"version :\",tf.__version__)"
      ]
    },
    {
      "cell_type": "code",
      "source": [
        "dset = tf.keras.datasets.cifar10\n",
        "(train_img,train_label),(test_img,test_label) = dset.load_data()"
      ],
      "metadata": {
        "id": "SsSyo18OHn53"
      },
      "execution_count": null,
      "outputs": []
    },
    {
      "cell_type": "code",
      "source": [
        "cls= ['airplane', 'automobile', 'bird', 'cat', 'deer', 'dog', 'frog', 'horse', 'ship', 'truck']"
      ],
      "metadata": {
        "id": "MSBcKxv5HujI"
      },
      "execution_count": null,
      "outputs": []
    },
    {
      "cell_type": "code",
      "source": [
        "import matplotlib.pyplot as plt\n",
        "plt.figure(figsize=(10,10))\n",
        "for i in range(16):\n",
        "    plt.subplot(4,4,i+1)\n",
        "    plt.xticks([])\n",
        "    plt.yticks([])\n",
        "    plt.grid(False)\n",
        "    plt.imshow(test_img[i], cmap=plt.cm.binary)\n",
        "    plt.xlabel(cls[test_label[i][0]])\n",
        "plt.show()"
      ],
      "metadata": {
        "id": "BvXya6n1HzFd"
      },
      "execution_count": null,
      "outputs": []
    },
    {
      "cell_type": "code",
      "source": [
        "# Resnet 50,101,152 ... 사용가능\n",
        "# https://www.tensorflow.org/api_docs/python/tf/keras/applications\n",
        "from tensorflow.keras.applications.resnet50 import ResNet50\n",
        "pretrained_model = ResNet50(include_top=False, input_shape = (32, 32 ,3), weights = 'imagenet',classes = 10)"
      ],
      "metadata": {
        "id": "2PtYZhLRH3n3"
      },
      "execution_count": null,
      "outputs": []
    },
    {
      "cell_type": "code",
      "source": [
        "# cifar10 data는 32x32 size, label이 10개 이므로 classes=10으로 설정\n",
        "pretrained_model.summary()"
      ],
      "metadata": {
        "id": "QgNuGJY7I79W"
      },
      "execution_count": null,
      "outputs": []
    },
    {
      "cell_type": "code",
      "source": [
        "from tensorflow.keras.layers import Dense, Flatten, MaxPooling2D\n",
        "from tensorflow.keras import Input"
      ],
      "metadata": {
        "id": "Dtp15gmoPQw9"
      },
      "execution_count": null,
      "outputs": []
    },
    {
      "cell_type": "code",
      "source": [
        "# tensor (32,32,3) size\n",
        "inputs = Input(shape=(32,32,3))\n",
        "x = tf.keras.layers.experimental.preprocessing.Resizing(32, 32)(inputs)\n",
        "x = tf.keras.applications.resnet50.preprocess_input(inputs)\n",
        "x = pretrained_model(x, training = False)\n",
        "x = Flatten()(x)\n",
        "# Dense(10) -> 10개의 class로 softmax해주는 과정\n",
        "outputs = Dense(10, activation = 'softmax')(x)\n",
        "\n",
        "model = tf.keras.Model(inputs,outputs)"
      ],
      "metadata": {
        "id": "Y_2LC9-HQWuO"
      },
      "execution_count": null,
      "outputs": []
    },
    {
      "cell_type": "code",
      "source": [
        "model.summary()"
      ],
      "metadata": {
        "id": "AoWY3UokRJEo"
      },
      "execution_count": null,
      "outputs": []
    },
    {
      "cell_type": "code",
      "source": [
        "# trainable을 False로 하면 전체 Freeze\n",
        "pretrained_model.trainable = True\n",
        "print(len(pretrained_model.layers))"
      ],
      "metadata": {
        "id": "HPERGBMwLGJH"
      },
      "execution_count": null,
      "outputs": []
    },
    {
      "cell_type": "code",
      "source": [
        "# Freeze 부분과 아닌 부분들 확인\n",
        "for i in pretrained_model.layers[:160]:\n",
        "    i.trainable = False\n",
        "\n",
        "for j in pretrained_model.layers[159:]:\n",
        "    print(j.name,j.trainable)"
      ],
      "metadata": {
        "id": "GrFsKTnOO-Rr"
      },
      "execution_count": null,
      "outputs": []
    },
    {
      "cell_type": "code",
      "source": [
        "# freeze해제 후 compile을 다시 해주어야한다, lr 조정하며 학습진행\n",
        "model.compile(optimizer = tf.keras.optimizers.Adam(learning_rate=0.0001),\n",
        "              loss = 'categorical_crossentropy',metrics=['accuracy'])"
      ],
      "metadata": {
        "id": "lXxdFpW4Q48t"
      },
      "execution_count": null,
      "outputs": []
    },
    {
      "cell_type": "code",
      "source": [
        "model.summary()"
      ],
      "metadata": {
        "id": "INySA3DbSf4w"
      },
      "execution_count": null,
      "outputs": []
    },
    {
      "cell_type": "code",
      "source": [
        "# 위의 summary를 보면 non-trainable params와 trainable params 변경 확인\n",
        "# 학습 진행\n",
        "\n",
        "# 숫자로 변경 기존 class : 'airplane' ...\n",
        "train_y = tf.keras.utils.to_categorical(train_label, 10)\n",
        "test_y = tf.keras.utils.to_categorical(test_label, 10)\n",
        "\n",
        "model.fit(train_img,train_y,epochs = 5, validation_data = (test_img,test_y),batch_size=64)"
      ],
      "metadata": {
        "id": "1YmoYdFPSiYk"
      },
      "execution_count": null,
      "outputs": []
    },
    {
      "cell_type": "code",
      "source": [],
      "metadata": {
        "id": "HreYHnhcT4CH"
      },
      "execution_count": null,
      "outputs": []
    }
  ]
}