{
 "cells": [
  {
   "cell_type": "code",
   "execution_count": 2,
   "metadata": {},
   "outputs": [],
   "source": [
    "import torch\n",
    "import torch.nn as nn\n",
    "import torch.optim as optim"
   ]
  },
  {
   "cell_type": "code",
   "execution_count": 3,
   "metadata": {},
   "outputs": [],
   "source": [
    "# input data : 224x224 size\n",
    "img = torch.rand((1,3,224,224))"
   ]
  },
  {
   "cell_type": "code",
   "execution_count": 32,
   "metadata": {},
   "outputs": [],
   "source": [
    "# 2,4개 block 단위로 묶었음 , 다른 사람들은 list안에 넣고 조금 더 효율적인듯\n",
    "class VGG19(nn.Module):\n",
    "    def __init__(self):\n",
    "        super().__init__()\n",
    "        self.vgg = nn.Sequential(\n",
    "            # 처음 2회 2개 묶은 것\n",
    "            self.two_block(3,64,kernel_size=3,stride=1,padding=1),\n",
    "            self.two_block(64,128,kernel_size=3,stride=1,padding=1),\n",
    "            # 이후 4개 묶은 것 3회\n",
    "            self.four_block(128,256,kernel_size=3,stride=1,padding=1),\n",
    "            self.four_block(256,512,kernel_size=3,stride=1,padding=1),\n",
    "            self.four_block(512,512,kernel_size=3,stride=1,padding=1),\n",
    "            # 여기까지 진행하면 512 channels, 7x7 size\n",
    "            # 이후 그냥 flat? global average pooling?\n",
    "            #global average pooling :  nn.AdaptiveAvgPool2d(1) -> 512x1x1\n",
    "        )\n",
    "        self.fc = nn.Sequential(\n",
    "            nn.Linear(512*7*7,4096),\n",
    "            nn.Linear(4096,4096),\n",
    "            nn.Linear(4096,1000)\n",
    "        )\n",
    "        \n",
    "    # 2개를 하나의 블록으로 묶어서 진행 후 Maxpool -> 2회\n",
    "    def two_block(self,in_channels,out_channels,kernel_size,stride,padding):\n",
    "        return nn.Sequential(\n",
    "            nn.Conv2d(in_channels,out_channels,kernel_size= kernel_size,padding = padding,stride = stride),\n",
    "            nn.ReLU(),\n",
    "            nn.Dropout(0.5),\n",
    "            nn.Conv2d(out_channels,out_channels,kernel_size=kernel_size,padding=padding,stride=stride),\n",
    "            nn.ReLU(),\n",
    "            nn.Dropout(0.5),\n",
    "            nn.MaxPool2d(2,2)\n",
    "        )\n",
    "    # 2개 블록으로 묶은 것 2회 이후 4개씩 묶은 것 3회 진행\n",
    "    # 진행하는 동안 channel은 바뀌지 않음 -> out_channels -> out_channels\n",
    "    def four_block(self,in_channels,out_channels,kernel_size,stride,padding):\n",
    "        return nn.Sequential(\n",
    "            nn.Conv2d(in_channels,out_channels,kernel_size= kernel_size,padding = padding,stride = stride),\n",
    "            nn.ReLU(),\n",
    "            nn.Dropout(0.5),\n",
    "            nn.Conv2d(out_channels,out_channels,kernel_size=kernel_size,padding=padding,stride=stride),\n",
    "            nn.ReLU(),\n",
    "            nn.Dropout(0.5),\n",
    "            nn.Conv2d(out_channels,out_channels,kernel_size=kernel_size,padding=padding,stride=stride),\n",
    "            nn.ReLU(),\n",
    "            nn.Dropout(0.5),\n",
    "            nn.Conv2d(out_channels,out_channels,kernel_size=kernel_size,padding=padding,stride=stride),\n",
    "            nn.ReLU(),\n",
    "            nn.Dropout(0.5),\n",
    "            nn.MaxPool2d(2,2)\n",
    "            )\n",
    "        \n",
    "    def forward(self,x):\n",
    "        x = self.vgg(x)\n",
    "        # flatten\n",
    "        x = x.view(x.size(0),-1)\n",
    "        x = self.fc(x)\n",
    "        \n",
    "        return x"
   ]
  },
  {
   "cell_type": "code",
   "execution_count": 33,
   "metadata": {},
   "outputs": [
    {
     "name": "stdout",
     "output_type": "stream",
     "text": [
      "torch.Size([1, 1000])\n"
     ]
    }
   ],
   "source": [
    "model = VGG19()\n",
    "output = model(img)\n",
    "print(output.shape)"
   ]
  },
  {
   "cell_type": "code",
   "execution_count": 35,
   "metadata": {},
   "outputs": [],
   "source": [
    "vgg19_list = [64,64,\"M\",128,128,\"M\",256,256,256,256,\"M\",512,512,512,512,\"M\",512,512,512,512,\"M\"]"
   ]
  },
  {
   "cell_type": "code",
   "execution_count": 36,
   "metadata": {},
   "outputs": [],
   "source": [
    "class VGG19_other_code(nn.Module):\n",
    "    def __init__(self):\n",
    "        super().__init__()\n",
    "        self.in_channels = 3\n",
    "        self.vgg = self.create_layer(vgg19_list)\n",
    "        self.fc = nn.Sequential(\n",
    "            nn.Linear(512*7*7,4096),\n",
    "            nn.Linear(4096,4096),\n",
    "            nn.Linear(4096,1000)\n",
    "        )\n",
    "        \n",
    "    def create_layer(self,vgg_list):\n",
    "        layers = []\n",
    "        in_channels = self.in_channels\n",
    "        for x in vgg_list:\n",
    "            if type(x) == int:\n",
    "                # 먼저 out_channel을 변경한 후에 기존의 in_channel과 conv2d 진행하기에 오류 x\n",
    "                out_channels = x\n",
    "                layers += [nn.Conv2d(in_channels=in_channels, out_channels=out_channels,kernel_size=(3,3), stride=(1,1), padding=(1,1)),\n",
    "                           nn.BatchNorm2d(x),\n",
    "                           nn.ReLU(),\n",
    "                           nn.Dropout(0.5)]\n",
    "                in_channels = x\n",
    "            elif x == 'M':\n",
    "                layers += [nn.MaxPool2d(kernel_size=(2,2), stride=(2,2))]\n",
    "                \n",
    "        return nn.Sequential(*layers)\n",
    "    \n",
    "    def forward(self,x):\n",
    "        x = self.vgg(x)\n",
    "        x = x.view(x.size(0),-1)\n",
    "        x = self.fc(x)\n",
    "        return x"
   ]
  },
  {
   "cell_type": "code",
   "execution_count": 37,
   "metadata": {},
   "outputs": [
    {
     "name": "stdout",
     "output_type": "stream",
     "text": [
      "torch.Size([1, 1000])\n"
     ]
    }
   ],
   "source": [
    "model = VGG19_other_code()\n",
    "output = model(img)\n",
    "print(output.shape)"
   ]
  }
 ],
 "metadata": {
  "kernelspec": {
   "display_name": "Python 3",
   "language": "python",
   "name": "python3"
  },
  "language_info": {
   "codemirror_mode": {
    "name": "ipython",
    "version": 3
   },
   "file_extension": ".py",
   "mimetype": "text/x-python",
   "name": "python",
   "nbconvert_exporter": "python",
   "pygments_lexer": "ipython3",
   "version": "3.12.1"
  }
 },
 "nbformat": 4,
 "nbformat_minor": 2
}
